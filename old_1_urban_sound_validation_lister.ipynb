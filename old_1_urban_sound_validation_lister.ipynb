{
 "cells": [
  {
   "cell_type": "code",
   "execution_count": 28,
   "metadata": {
    "collapsed": true
   },
   "outputs": [],
   "source": [
    "import os\n",
    "import pandas as pd\n",
    "\n",
    "# load original listing\n",
    "DATADIR = './UrbanSound8K'\n",
    "metadata = pd.read_csv(os.path.join(DATADIR, 'metadata', 'UrbanSound8K.csv'))"
   ]
  },
  {
   "cell_type": "code",
   "execution_count": 31,
   "metadata": {},
   "outputs": [
    {
     "data": {
      "text/plain": [
       "[1000, 429, 1000, 1000, 1000, 1000, 374, 1000, 929, 1000]"
      ]
     },
     "execution_count": 31,
     "metadata": {},
     "output_type": "execute_result"
    }
   ],
   "source": [
    "# check for number of samples per class, class balance\n",
    "classIDs = sorted(metadata['classID'].unique())\n",
    "samples_per_class = [len(metadata[metadata.classID == i]) for i in classIDs]\n",
    "samples_per_class"
   ]
  },
  {
   "cell_type": "code",
   "execution_count": 30,
   "metadata": {
    "collapsed": true
   },
   "outputs": [],
   "source": [
    "# It's imbalanced... 3 classes need more data. Leave it for now."
   ]
  },
  {
   "cell_type": "code",
   "execution_count": 34,
   "metadata": {},
   "outputs": [
    {
     "data": {
      "text/plain": [
       "[200, 85, 200, 200, 200, 200, 74, 200, 185, 200]"
      ]
     },
     "execution_count": 34,
     "metadata": {},
     "output_type": "execute_result"
    }
   ],
   "source": [
    "# calculate number of validation samples\n",
    "k = 0.2 # 20%\n",
    "val_samples_per_class = list(map(lambda n: int(n * k), samples_per_class))\n",
    "val_samples_per_class"
   ]
  },
  {
   "cell_type": "code",
   "execution_count": 47,
   "metadata": {},
   "outputs": [
    {
     "data": {
      "text/plain": [
       "slice_file_name    1744\n",
       "fsID               1744\n",
       "start              1744\n",
       "end                1744\n",
       "salience           1744\n",
       "fold               1744\n",
       "classID            1744\n",
       "class              1744\n",
       "dtype: int64"
      ]
     },
     "execution_count": 47,
     "metadata": {},
     "output_type": "execute_result"
    }
   ],
   "source": [
    "# select bottom of each class samples for validation.\n",
    "valdata = pd.DataFrame()\n",
    "for c in classIDs:\n",
    "    valdata = valdata.append(metadata[metadata.classID == c][-val_samples_per_class[c]:])\n",
    "# write to list file\n",
    "valdata.to_csv(os.path.join('.', 'validation_list.csv'))\n",
    "valdata.count()"
   ]
  },
  {
   "cell_type": "code",
   "execution_count": 48,
   "metadata": {},
   "outputs": [
    {
     "data": {
      "text/plain": [
       "slice_file_name    6988\n",
       "fsID               6988\n",
       "start              6988\n",
       "end                6988\n",
       "salience           6988\n",
       "fold               6988\n",
       "classID            6988\n",
       "class              6988\n",
       "dtype: int64"
      ]
     },
     "execution_count": 48,
     "metadata": {},
     "output_type": "execute_result"
    }
   ],
   "source": [
    "# create training data list\n",
    "traindata = pd.DataFrame()\n",
    "for c in classIDs:\n",
    "    traindata = traindata.append(metadata[metadata.classID == c][:-val_samples_per_class[c]])\n",
    "# write to list file\n",
    "traindata.to_csv(os.path.join('.', 'train_list.csv'))\n",
    "traindata.count()"
   ]
  },
  {
   "cell_type": "code",
   "execution_count": 42,
   "metadata": {},
   "outputs": [
    {
     "data": {
      "text/plain": [
       "slice_file_name    8732\n",
       "fsID               8732\n",
       "start              8732\n",
       "end                8732\n",
       "salience           8732\n",
       "fold               8732\n",
       "classID            8732\n",
       "class              8732\n",
       "dtype: int64"
      ]
     },
     "execution_count": 42,
     "metadata": {},
     "output_type": "execute_result"
    }
   ],
   "source": [
    "metadata.count()"
   ]
  }
 ],
 "metadata": {
  "kernelspec": {
   "display_name": "Python 3",
   "language": "python",
   "name": "python3"
  },
  "language_info": {
   "codemirror_mode": {
    "name": "ipython",
    "version": 3
   },
   "file_extension": ".py",
   "mimetype": "text/x-python",
   "name": "python",
   "nbconvert_exporter": "python",
   "pygments_lexer": "ipython3",
   "version": "3.6.2"
  }
 },
 "nbformat": 4,
 "nbformat_minor": 2
}
