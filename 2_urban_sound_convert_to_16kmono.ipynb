{
 "cells": [
  {
   "cell_type": "code",
   "execution_count": 1,
   "metadata": {
    "collapsed": true
   },
   "outputs": [],
   "source": [
    "DATADIR = './UrbanSound8K'\n",
    "OUTDIR =  './16mUrbanSound8K'\n",
    "# Data Loading\n",
    "import os\n",
    "import re\n",
    "from glob import glob\n",
    "\n",
    "all_files = glob(os.path.join(DATADIR, 'audio/*/*wav'))"
   ]
  },
  {
   "cell_type": "code",
   "execution_count": 5,
   "metadata": {},
   "outputs": [
    {
     "name": "stdout",
     "output_type": "stream",
     "text": [
      "../../dataset/16mUrbanSound8K/audio/fold1 ../../dataset/16mUrbanSound8K/audio/fold1/164053-8-2-3.wav\n"
     ]
    }
   ],
   "source": [
    "print(os.path.dirname(all_files[0].replace(DATADIR, OUTDIR)), all_files[0].replace(DATADIR, OUTDIR))"
   ]
  },
  {
   "cell_type": "code",
   "execution_count": 1,
   "metadata": {
    "collapsed": true
   },
   "outputs": [],
   "source": [
    "import librosa\n",
    "import numpy as np\n",
    "sample_rate = 16000\n",
    "def librosa_load_audio_as_mono(pathname, samplerate=sample_rate, ms_duration=None):\n",
    "    _path = pathname\n",
    "    if ms_duration != None:\n",
    "        y, sr = librosa.load(_path, sr=samplerate, duration=ms_duration/1e3)\n",
    "    else:\n",
    "        y, sr = librosa.load(_path, sr=samplerate)\n",
    "\n",
    "    y_mono = librosa.to_mono(y)\n",
    "    raw = np.array(list(y_mono), dtype=np.float32)\n",
    "    return raw\n",
    "\n",
    "def write_audio(pathname, audio, samplerate):\n",
    "    maxv = np.iinfo(np.int16).max\n",
    "    librosa.output.write_wav(pathname, (audio * maxv).astype(np.int16), samplerate)\n",
    "\n",
    "def ensure_folder(folder):\n",
    "    if not os.path.exists(folder):\n",
    "        os.makedirs(folder)"
   ]
  },
  {
   "cell_type": "code",
   "execution_count": 11,
   "metadata": {
    "collapsed": true
   },
   "outputs": [],
   "source": [
    "for f in all_files:\n",
    "    a = librosa_load_audio_as_mono(f)\n",
    "    targ = f.replace(DATADIR, OUTDIR)\n",
    "    ensure_folder(os.path.dirname(targ))\n",
    "    write_audio(targ, a, sample_rate)"
   ]
  },
  {
   "cell_type": "code",
   "execution_count": null,
   "metadata": {
    "collapsed": true
   },
   "outputs": [],
   "source": []
  }
 ],
 "metadata": {
  "kernelspec": {
   "display_name": "Python 3",
   "language": "python",
   "name": "python3"
  },
  "language_info": {
   "codemirror_mode": {
    "name": "ipython",
    "version": 3
   },
   "file_extension": ".py",
   "mimetype": "text/x-python",
   "name": "python",
   "nbconvert_exporter": "python",
   "pygments_lexer": "ipython3",
   "version": "3.6.2"
  }
 },
 "nbformat": 4,
 "nbformat_minor": 2
}
